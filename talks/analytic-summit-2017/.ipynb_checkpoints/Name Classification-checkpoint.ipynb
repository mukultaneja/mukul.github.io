{
 "cells": [
  {
   "cell_type": "code",
   "execution_count": 2,
   "metadata": {
    "collapsed": true,
    "slideshow": {
     "slide_type": "slide"
    }
   },
   "outputs": [],
   "source": [
    "import nltk\n",
    "import random\n",
    "from nltk.corpus import names"
   ]
  },
  {
   "cell_type": "code",
   "execution_count": 3,
   "metadata": {
    "collapsed": false,
    "slideshow": {
     "slide_type": "slide"
    }
   },
   "outputs": [],
   "source": [
    "labeled_names = [(name, 'male') for name in names.words('male.txt')]\n",
    "labeled_names += [(name, 'female') for name in names.words('female.txt')]\n",
    "random.shuffle(labeled_names)\n",
    "\n",
    "train_set, test_set = labeled_names[500:], labeled_names[:500]"
   ]
  },
  {
   "cell_type": "code",
   "execution_count": 7,
   "metadata": {
    "collapsed": false,
    "slideshow": {
     "slide_type": "slide"
    }
   },
   "outputs": [
    {
     "name": "stdout",
     "output_type": "stream",
     "text": [
      "0.76\n"
     ]
    }
   ],
   "source": [
    "def gender_features(name):\n",
    "    return {'last_name': name[-1]}\n",
    "\n",
    "train_features = [(gender_features(n), gender) for (n, gender) in train_set]\n",
    "test_features = [(gender_features(n), gender) for (n, gender) in test_set]\n",
    "classifier = nltk.NaiveBayesClassifier.train(train_features)\n",
    "\n",
    "print nltk.classify.accuracy(classifier, test_features)"
   ]
  },
  {
   "cell_type": "code",
   "execution_count": 8,
   "metadata": {
    "collapsed": false,
    "slideshow": {
     "slide_type": "slide"
    }
   },
   "outputs": [
    {
     "name": "stdout",
     "output_type": "stream",
     "text": [
      "0.756\n"
     ]
    }
   ],
   "source": [
    "def gender_features2(name):\n",
    "    features = {}\n",
    "    features[\"suffix1\"] = name[-1].lower()\n",
    "    features[\"suffix2\"] = name[-2].lower()\n",
    "    return features\n",
    "\n",
    "train_features = [(gender_features2(n), gender) for (n, gender) in train_set]\n",
    "test_features = [(gender_features2(n), gender) for (n, gender) in test_set]\n",
    "classifier = nltk.NaiveBayesClassifier.train(train_features)\n",
    "\n",
    "print nltk.classify.accuracy(classifier, test_features)"
   ]
  },
  {
   "cell_type": "code",
   "execution_count": 9,
   "metadata": {
    "collapsed": false,
    "slideshow": {
     "slide_type": "slide"
    }
   },
   "outputs": [
    {
     "name": "stdout",
     "output_type": "stream",
     "text": [
      "0.76\n"
     ]
    }
   ],
   "source": [
    "def gender_features3(name):\n",
    "    features = {}\n",
    "    features[\"first_letter\"] = name[0].lower()\n",
    "    features[\"last_letter\"] = name[-1].lower()\n",
    "    for letter in 'abcdefghijklmnopqrstuvwxyz':\n",
    "        features[\"count({})\".format(letter)] = name.lower().count(letter)\n",
    "        features[\"has({})\".format(letter)] = (letter in name.lower())\n",
    "    return features\n",
    "\n",
    "train_features = [(gender_features3(n), gender) for (n, gender) in train_set]\n",
    "test_features = [(gender_features3(n), gender) for (n, gender) in test_set]\n",
    "classifier = nltk.NaiveBayesClassifier.train(train_features)\n",
    "\n",
    "print nltk.classify.accuracy(classifier, test_features)"
   ]
  },
  {
   "cell_type": "code",
   "execution_count": null,
   "metadata": {
    "collapsed": true,
    "slideshow": {
     "slide_type": "skip"
    }
   },
   "outputs": [],
   "source": []
  }
 ],
 "metadata": {
  "celltoolbar": "Slideshow",
  "kernelspec": {
   "display_name": "Python 2",
   "language": "python",
   "name": "python2"
  },
  "language_info": {
   "codemirror_mode": {
    "name": "ipython",
    "version": 2
   },
   "file_extension": ".py",
   "mimetype": "text/x-python",
   "name": "python",
   "nbconvert_exporter": "python",
   "pygments_lexer": "ipython2",
   "version": "2.7.12"
  }
 },
 "nbformat": 4,
 "nbformat_minor": 0
}
